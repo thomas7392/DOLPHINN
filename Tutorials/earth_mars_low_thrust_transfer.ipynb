{
 "cells": [
  {
   "cell_type": "markdown",
   "id": "69f7ce68-78f2-49c8-8bd8-3bf8d2cd6d9f",
   "metadata": {
    "tags": []
   },
   "source": [
    "# Tutorial -  Planar Earth-Mars Transfer and Rendez-Vous\n",
    "#### Thomas Goldman \n",
    "\n",
    "\n",
    "In this tutorial, I will explain how the DOLPHINN package works internally and how you can use it to solve your own problems. Realise that currently DOLPHINN is quite tailored to spacecraft trajectories. The example problem considered here, will be the optimal control problem of sending a spacecraft to meet with Mars and match its velocity by using electric propulsion. This tutorial will mainly focuss on how the DOLPHINN module works, and how it can be used to solve your own custom problem. First, lets introduce the problem. \n",
    "\n",
    "Consider a spacecraft with initial mass $m$ and an engine that can produce a maximum thrust force $u_{max}$ with a specific impulse $I_{sp}$. The acceleration model consists of only the central gravitional attraction from the sun. The state of the spacecraft will be described in terms of polar coordinates, $r, \\theta$ and the velocity vector will be described in terms of the transverse component $v_{\\theta}$ and the radial component $v_r$, as per the figure. The control vector of the thrust produced by the electric propulsion engine is described in the same basis as the velocity. However, the control is parameterized in terms of the magnitude $u_t = |\\mathbf{u}|$ and an angle $u_{\\phi}$. \n",
    "\n",
    "<img src=\"../Images/radial_frame.png\" alt=\"drawing\" width=\"400\"/>\n",
    "\n",
    "\n",
    "- The state of the spacecraft is then \n",
    "\n",
    "\n",
    "$$\\mathbf{z} = \\begin{bmatrix} r \\\\ \\theta \\\\ v_r \\\\ v_{\\theta} \\end{bmatrix} $$\n",
    "\n",
    "\n",
    "- The equations of motion then read\n",
    "\n",
    "$$  \\begin{align} \\dot{r} &= v_r\\\\\n",
    "    \\dot{\\theta} &= \\dfrac{v_{\\theta}}{r}\\\\\n",
    "    \\dot{v_r} &= \\dfrac{v_{\\theta}^2}{r}  - \\dfrac{\\mu}{r^2} &&+ \\dfrac{u_T \\sin{u_{\\phi}}}{m}\\\\\n",
    "    \\dot{v_{\\theta}} &= -\\dfrac{v_r v_{\\theta}}{r} &&+ \\dfrac{u_T \\cos{u_{\\phi}}}{m}\\label{eq:eom4}\\\\\n",
    "    \\dot{m} &= \\dfrac{u_T}{I_{sp} g_0} \\end{align} \n",
    "$$\n",
    "    \n",
    "- At the intial time $t_0$, the spacecraft is at position $\\mathbf{z} (t_0) = \\mathbf{z}_0$\n",
    "- At the final time $t_f$, the spacecraft is at position $\\mathbf{z} (t_f) = \\mathbf{z}_f$\n",
    "\n",
    "- The objective will be the propellant mass $m_p$, which can be calculated by integrating the thrust force magnitude $u_{T}$.\n",
    "    $$m_p = \\dfrac{1}{I_{sp} g_0} \\int_{t_0}^{t_f} u_T (t) dt $$\n",
    "\n",
    "\n",
    "- The solution to this optimal control problem constitutes of a trajectory $\\mathbf{z}^* (t)$ and a control profile $\\mathbf{u}^* (t)$, that satisfies the dynamical constraints, the boundary conditions and burns the minimum amount of fuel. "
   ]
  },
  {
   "cell_type": "markdown",
   "id": "00b37e82-00f2-4a8d-9a7b-0f7e3acfcac1",
   "metadata": {},
   "source": [
    "# The DOLPHINN\n",
    "The Physics-Informed Neural Network to solve this problem is summarized in this overview figure. For a detailed description of the various components in this overview, I refer to the thesis (or ASC publication). This tutorial will focuss on the implenentation in the DOLPHINN module.\n",
    "\n",
    "<img src=\"../Images/final_contraints.png\" alt=\"drawing\" width=\"1000\"/>\n",
    "\n",
    "The DOLPHINN package uses 3 user-defined classes that together describe the basic components of the optimal control problem\n",
    "\n",
    "1. The dynamics loss (default options in `DOLPHINN.dynamics`)\n",
    "2. The constraint layer (default options in `DOLPHINN.output_layer`)\n",
    "3. The objective loss (default options in `DOLPHINN.objectives`)\n",
    "\n",
    "I wil go over these 3 and manually implement the classes for the problem described above. But first, lets quickly show how to import DOLPHINN functionality."
   ]
  },
  {
   "cell_type": "markdown",
   "id": "b05983e4-1d75-42d3-a087-b66fa9df9988",
   "metadata": {},
   "source": [
    "# Importing\n",
    "\n",
    "- If you have DOLPHINN as a package, after downloading it via  `pip install git+https://github.com/thomas7392/DOLPHINN.git`,  you can import the DOLHPINN functionality directly "
   ]
  },
  {
   "cell_type": "code",
   "execution_count": null,
   "id": "6e9c08f2-618e-466b-9a99-b9993a826c08",
   "metadata": {
    "tags": []
   },
   "outputs": [],
   "source": [
    "from DOLPHINN.function import Function"
   ]
  },
  {
   "cell_type": "markdown",
   "id": "e420d056-cbf7-4e3c-9e1f-4987f38ad570",
   "metadata": {},
   "source": [
    "- If you have a (customized) local DOLPHINN clone, via `git clone git@github.com:your_username/DOLPHINN.git`, you should add the correct path to your repo to the python systems path in order to import the functionality. From the `/tutorial` folder in the repo, where we are right now, the relative path to the functionalities is `..`. \n",
    "- Depending on where you run your notebook, you should adjust this relative path"
   ]
  },
  {
   "cell_type": "code",
   "execution_count": 8,
   "id": "864120d7-2f88-44d8-a83c-6e35ed2db5a9",
   "metadata": {
    "tags": []
   },
   "outputs": [],
   "source": [
    "import sys \n",
    "import os\n",
    "\n",
    "# Get the path to the functionality of the \n",
    "current_path = os.path.dirname(os.path.abspath('__file__'))\n",
    "relative_path = '..' \n",
    "dolphinn_path = os.path.join(current_path, relative_path)\n",
    "\n",
    "# Add the path to the DOLPHINN repo\n",
    "sys.path.append(dolphinn_path)\n",
    "\n",
    "from DOLPHINN.function import Function"
   ]
  },
  {
   "cell_type": "markdown",
   "id": "42f0666a-051f-4112-8b41-855319ab2065",
   "metadata": {},
   "source": [
    "# The Dynamics \n",
    "\n",
    "The latent neural network solution is made to adhere to the dynamical constraints, the equations of motion, by training the network on a loss that describes the equations of motion. \n",
    "\n",
    "- The dynamics loss class has to inherrit the `DOLPHINN.function.Function` class \n",
    "- The loss should be calculated in the user-defined (overloaded) `call` method\n",
    "- The `call` method should have signature `call(self, #network_input, #network_output`)\n",
    "- The derivatives in the equations of motion can be calculated with automatic differentiation by using the `deepxde.grad` module. \n",
    "- Use only `tensorflow` math operations (so no `numpy`), because this will be used by Tensorflow during training.\n",
    "- You can use `self.parameter` to reach a constants named `parameter`, that might be present in the equations motion. For example $m$, $I_{sp}$ or $u_{max}$.  `DOLPHINN.function.Function` makes sure of this. You can declare their value to the DOLPHINN class later. \n",
    "\\\n",
    "\n",
    "\n",
    "- The class should have the following class attributes \n",
    "    - `coordinates` (str): \\\n",
    "    The type of coordinates. The name declared here should be in line with the coordinates transformation function in `DOLPHINN.coordinate_transformations`. Current options are `radial` and `NDcartesian`. \n",
    "    - `mass` (bool): \\\n",
    "    This boolean declares wheter or not the mass of the spacecraft is modelled. If set to `True`, DOLPHINN will assume that it's the last output entry from the network.\n",
    "    - `control` (bool): \\\n",
    "    This boolean declares whether or not the spacecraft can be controlled. It set to `True`, DOLPHINN assumes that the final output entries of the network are the control entries, except when a mass is included, that they will be in front of the mass. The order is thus `[state_entries, control_entries, mass_entry]`. \n",
    "    - `entries` (int) \\\n",
    "    The amount of control entries plus the amount of state entries. \n",
    "     - `entry_labels` (list) \\\n",
    "    List with `entries` amount of strings that are used for printing purposes of the various state and control entries.   \n",
    "    - `control_entries` (int) \\\n",
    "    The amount of control entries. \n",
    "    - `loss_entries` (int) \\\n",
    "    The amount of dynamics loss terms, including the potential mass loss term\n",
    "    - `loss_labels` (list) \\\n",
    "    List with `loss_entries` amount of strings that are used for printing purposes of the various loss terms. \n",
    "    - `theta` (boolean): \\\n",
    "    If using polar coordinates, this declares whether or not the dynamics include theta or not. If using polar coordinates and `theta` is set to `False`, theta will be calculated afterwards from the establisehd $v_{\\theta} (t)$ and $r (t)$. An example where this is useful, is if one wants to not constraint theta, for example if one simply want to get to a higher orbit and does not care at what phase angle in that orbit. Always put to `false` if coordinates are not polar. \n"
   ]
  },
  {
   "cell_type": "code",
   "execution_count": 9,
   "id": "18e13bd0-8802-4f63-8a48-84c450d08f4c",
   "metadata": {
    "tags": []
   },
   "outputs": [],
   "source": [
    "import tensorflow as tf\n",
    "import deepxde as dde\n",
    "import numpy as np\n",
    "\n",
    "class Dynamics(Function): \n",
    "    \n",
    "    theta = False\n",
    "    control = True\n",
    "    mass = True\n",
    "    entries = 6\n",
    "    control_entries = 2\n",
    "    loss_entries = 4\n",
    "    coordinates = 'radial'\n",
    "    loss_labels = [\"r\", \"v$_r$\", r\"v$_{\\theta}$\", \"m\"]\n",
    "    entry_labels = [\"r\", r\"$\\theta$\", \"v$_r$ \", r\"v$_{\\theta}$\", \"u$_r$\", r\"u$_{\\theta}$\"]\n",
    "    \n",
    "    def call(self, time, y):\n",
    "\n",
    "            # Coordinate entries\n",
    "            x1    = y[:, 0:1]\n",
    "            theta = y[:,1:2] # Not used, uncoupled from the others\n",
    "            x2    = y[:, 2:3]\n",
    "            x3    = y[:, 3:4]\n",
    "\n",
    "            # Control entries\n",
    "            ur    = y[:, 4:5]\n",
    "            ut    = y[:, 5:6]\n",
    "\n",
    "            # Mass entry\n",
    "            m     = y[:, 6:7]\n",
    "\n",
    "            # Thrust magnitude\n",
    "            T = tf.reshape(tf.norm(y[:, 4:6], axis = 1), (-1, 1))\n",
    "\n",
    "            # LHS of equations of motion (Automatic differentation)\n",
    "            dx1_dt    = dde.grad.jacobian(y, time, i=0)\n",
    "            dtheta_dt = dde.grad.jacobian(y, time, i=1)\n",
    "            dx2_dt    = dde.grad.jacobian(y, time, i=2)\n",
    "            dx3_dt    = dde.grad.jacobian(y, time, i=3)\n",
    "            dm_dt     = dde.grad.jacobian(y, time, i=6)\n",
    "\n",
    "            # RHS of equations of motion\n",
    "            RHS_x1     = x2\n",
    "            RHS_theta  = x3/x1\n",
    "            RHS_x2     = x3**2/x1 - (self.mu * self.time_scale**2 / self.length_scale**3) * x1**(-2) +\\\n",
    "                          (self.time_scale**2/self.length_scale) * ur / m\n",
    "            RHS_x3     = - (x2*x3)/x1 + (self.time_scale**2/self.length_scale) * ut / m\n",
    "            RHS_m      = -T * self.time_scale / (self.isp * 9.81)\n",
    "\n",
    "            # Return the residuals\n",
    "            return [\n",
    "                dx1_dt    - RHS_x1,\n",
    "                dtheta_dt - RHS_theta,\n",
    "                dx2_dt    - RHS_x2,\n",
    "                dx3_dt    - RHS_x3,\n",
    "                dm_dt     - RHS_m,\n",
    "                ]\n",
    "        "
   ]
  },
  {
   "cell_type": "code",
   "execution_count": null,
   "id": "86758f0f-ee37-41c3-82c4-66ae99881087",
   "metadata": {},
   "outputs": [],
   "source": []
  }
 ],
 "metadata": {
  "kernelspec": {
   "display_name": "Python [conda env:space_hnn_tf] *",
   "language": "python",
   "name": "conda-env-space_hnn_tf-py"
  },
  "language_info": {
   "codemirror_mode": {
    "name": "ipython",
    "version": 3
   },
   "file_extension": ".py",
   "mimetype": "text/x-python",
   "name": "python",
   "nbconvert_exporter": "python",
   "pygments_lexer": "ipython3",
   "version": "3.10.9"
  }
 },
 "nbformat": 4,
 "nbformat_minor": 5
}
